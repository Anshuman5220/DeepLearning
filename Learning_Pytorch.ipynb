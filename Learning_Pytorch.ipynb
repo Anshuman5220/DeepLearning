{
 "cells": [
  {
   "cell_type": "markdown",
   "id": "7c16d944",
   "metadata": {},
   "source": [
    "## Learning pytorch"
   ]
  },
  {
   "cell_type": "code",
   "execution_count": 1,
   "id": "343a10cb",
   "metadata": {},
   "outputs": [],
   "source": [
    "import torch"
   ]
  },
  {
   "cell_type": "code",
   "execution_count": 2,
   "id": "47c722b2",
   "metadata": {},
   "outputs": [],
   "source": [
    "import torchvision"
   ]
  },
  {
   "cell_type": "code",
   "execution_count": 3,
   "id": "c5439b4a",
   "metadata": {},
   "outputs": [
    {
     "data": {
      "text/plain": [
       "False"
      ]
     },
     "execution_count": 3,
     "metadata": {},
     "output_type": "execute_result"
    }
   ],
   "source": [
    "torch.cuda.is_available()"
   ]
  },
  {
   "cell_type": "code",
   "execution_count": 5,
   "id": "19653011",
   "metadata": {},
   "outputs": [
    {
     "name": "stdout",
     "output_type": "stream",
     "text": [
      "tensor([2, 2, 1])\n"
     ]
    }
   ],
   "source": [
    "## Torch Tensors\n",
    "\n",
    "a = torch.tensor([2,2,1])\n",
    "print(a)"
   ]
  },
  {
   "cell_type": "code",
   "execution_count": 10,
   "id": "dcbb0039",
   "metadata": {},
   "outputs": [
    {
     "name": "stdout",
     "output_type": "stream",
     "text": [
      "tensor([[ 1,  2,  3],\n",
      "        [ 4,  5,  6],\n",
      "        [ 7,  8,  9],\n",
      "        [10, 11, 12]])\n"
     ]
    }
   ],
   "source": [
    "## 2-D Tensor\n",
    "\n",
    "b = torch.tensor([[1,2,3],[4,5,6],[7,8,9],[10,11,12]])\n",
    "print(b)"
   ]
  },
  {
   "cell_type": "code",
   "execution_count": 11,
   "id": "7a1e8d19",
   "metadata": {},
   "outputs": [
    {
     "name": "stdout",
     "output_type": "stream",
     "text": [
      "torch.Size([3])\n",
      "torch.Size([4, 3])\n",
      "torch.Size([3])\n",
      "torch.Size([4, 3])\n"
     ]
    }
   ],
   "source": [
    "## size of tensor\n",
    "print(a.shape)\n",
    "print(b.shape)\n",
    "print(a.size())\n",
    "print(b.size())"
   ]
  },
  {
   "cell_type": "code",
   "execution_count": 12,
   "id": "64ca158d",
   "metadata": {},
   "outputs": [
    {
     "name": "stdout",
     "output_type": "stream",
     "text": [
      "4\n"
     ]
    }
   ],
   "source": [
    "## Get the height/number of rows of b\n",
    "\n",
    "print(b.shape[0])"
   ]
  },
  {
   "cell_type": "code",
   "execution_count": 15,
   "id": "3f4f930b",
   "metadata": {},
   "outputs": [
    {
     "name": "stdout",
     "output_type": "stream",
     "text": [
      "tensor([[ 1.,  2.,  3.],\n",
      "        [ 4.,  5.,  6.],\n",
      "        [ 7.,  8.,  9.],\n",
      "        [10., 11., 12.]])\n"
     ]
    }
   ],
   "source": [
    "## Define Float Tensor\n",
    "c = torch.FloatTensor([[1,2,3],[4,5,6],[7,8,9],[10,11,12]])\n",
    "print(c)\n",
    "\n",
    "## or we can do \n",
    "c = torch.tensor([[1,2,3],[4,5,6],[7,8,9],[10,11,12]],dtype=torch.float)"
   ]
  },
  {
   "cell_type": "code",
   "execution_count": 16,
   "id": "6b19f393",
   "metadata": {},
   "outputs": [
    {
     "name": "stdout",
     "output_type": "stream",
     "text": [
      "tensor([[ 1.,  2.,  3.],\n",
      "        [ 4.,  5.,  6.],\n",
      "        [ 7.,  8.,  9.],\n",
      "        [10., 11., 12.]])\n"
     ]
    }
   ],
   "source": [
    "print(c)"
   ]
  },
  {
   "cell_type": "code",
   "execution_count": 17,
   "id": "6c0842f5",
   "metadata": {},
   "outputs": [
    {
     "name": "stdout",
     "output_type": "stream",
     "text": [
      "tensor([[ 1.,  2.,  3.],\n",
      "        [ 4.,  5.,  6.],\n",
      "        [ 7.,  8.,  9.],\n",
      "        [10., 11., 12.]], dtype=torch.float64)\n"
     ]
    }
   ],
   "source": [
    "## Define Double tensor\n",
    "d = torch.DoubleTensor([[1,2,3],[4,5,6],[7,8,9],[10,11,12]])\n",
    "print(d)"
   ]
  },
  {
   "cell_type": "code",
   "execution_count": 18,
   "id": "606bb5ac",
   "metadata": {},
   "outputs": [
    {
     "name": "stdout",
     "output_type": "stream",
     "text": [
      "tensor([[ 1.,  2.,  3.],\n",
      "        [ 4.,  5.,  6.],\n",
      "        [ 7.,  8.,  9.],\n",
      "        [10., 11., 12.]], dtype=torch.float64)\n"
     ]
    }
   ],
   "source": [
    "d = torch.tensor([[1,2,3],[4,5,6],[7,8,9],[10,11,12]],dtype=torch.double)\n",
    "print(d)"
   ]
  },
  {
   "cell_type": "code",
   "execution_count": 19,
   "id": "79479046",
   "metadata": {},
   "outputs": [
    {
     "name": "stdout",
     "output_type": "stream",
     "text": [
      "tensor(6.5000)\n"
     ]
    }
   ],
   "source": [
    "print(c.mean())"
   ]
  },
  {
   "cell_type": "code",
   "execution_count": 20,
   "id": "d956c8f6",
   "metadata": {},
   "outputs": [
    {
     "name": "stdout",
     "output_type": "stream",
     "text": [
      "tensor(6.5000, dtype=torch.float64)\n"
     ]
    }
   ],
   "source": [
    "print(d.mean())"
   ]
  },
  {
   "cell_type": "code",
   "execution_count": 21,
   "id": "4d48c608",
   "metadata": {},
   "outputs": [
    {
     "name": "stdout",
     "output_type": "stream",
     "text": [
      "tensor(3.6056)\n"
     ]
    }
   ],
   "source": [
    "print(c.std())"
   ]
  },
  {
   "cell_type": "code",
   "execution_count": 22,
   "id": "296dfa79",
   "metadata": {},
   "outputs": [
    {
     "name": "stdout",
     "output_type": "stream",
     "text": [
      "tensor(3.6056, dtype=torch.float64)\n"
     ]
    }
   ],
   "source": [
    "print(d.std())"
   ]
  },
  {
   "cell_type": "code",
   "execution_count": 32,
   "id": "a0d40001",
   "metadata": {},
   "outputs": [
    {
     "name": "stdout",
     "output_type": "stream",
     "text": [
      "tensor([[ 1,  2,  3,  4,  5,  6,  7,  8,  9, 10, 11, 12]])\n",
      "tensor([[ 1],\n",
      "        [ 2],\n",
      "        [ 3],\n",
      "        [ 4],\n",
      "        [ 5],\n",
      "        [ 6],\n",
      "        [ 7],\n",
      "        [ 8],\n",
      "        [ 9],\n",
      "        [10],\n",
      "        [11],\n",
      "        [12]])\n",
      "tensor([ 1,  2,  3,  4,  5,  6,  7,  8,  9, 10, 11, 12])\n",
      "Exactly Same\n",
      "tensor([[ 1,  2,  3,  4],\n",
      "        [ 5,  6,  7,  8],\n",
      "        [ 9, 10, 11, 12]])\n",
      "tensor([[ 1,  2,  3,  4],\n",
      "        [ 5,  6,  7,  8],\n",
      "        [ 9, 10, 11, 12]])\n",
      "tensor([[ 1,  2,  3,  4,  5,  6,  7,  8,  9, 10, 11, 12]])\n",
      "torch.Size([1, 12])\n",
      "\n",
      " Reshape 3D Tensor\n",
      "\n",
      "\n",
      "tensor([[[-0.2488,  0.3214,  1.0353,  2.0964],\n",
      "         [-0.1158, -0.3109,  0.9340, -1.2685],\n",
      "         [ 0.9289, -0.5995, -0.0384,  0.4313]],\n",
      "\n",
      "        [[ 2.1955, -1.1190, -2.1035, -0.7137],\n",
      "         [-0.3835, -0.7317, -0.1828,  0.0279],\n",
      "         [-0.0803, -0.8355, -0.5537,  0.3270]]])\n",
      "tensor([[-0.2488,  0.3214,  1.0353,  2.0964, -0.1158, -0.3109,  0.9340, -1.2685,\n",
      "          0.9289, -0.5995, -0.0384,  0.4313],\n",
      "        [ 2.1955, -1.1190, -2.1035, -0.7137, -0.3835, -0.7317, -0.1828,  0.0279,\n",
      "         -0.0803, -0.8355, -0.5537,  0.3270]])\n",
      "tensor([[-0.2488,  0.3214,  1.0353,  2.0964, -0.1158, -0.3109,  0.9340, -1.2685,\n",
      "          0.9289, -0.5995, -0.0384,  0.4313],\n",
      "        [ 2.1955, -1.1190, -2.1035, -0.7137, -0.3835, -0.7317, -0.1828,  0.0279,\n",
      "         -0.0803, -0.8355, -0.5537,  0.3270]])\n"
     ]
    }
   ],
   "source": [
    "## Reshape b\n",
    "print(b)\n",
    "##Note: if one of the dimension is -1 , its size can be inferred\n",
    "## with -1 , torch automatically identifies the shape of the dataset\n",
    "print(b.view(-1,1))\n",
    "print(b.view(12))\n",
    "print(\"Exactly Same\")\n",
    "print(b.view(-1,4))\n",
    "print(b.view(3,4))\n",
    "## assign b a new shape\n",
    "\n",
    "b = b.view(1,-1)\n",
    "print(b)\n",
    "print(b.shape)\n",
    "## we can even reshape 3D tensors\n",
    "print('\\n Reshape 3D Tensor')\n",
    "## Create 3D tensor with 2 channels, 3 rows and 4 columns (channels,rows,columns)\n",
    "three_dim = torch.randn(2,3,4)\n",
    "print(\"\\n\")\n",
    "print(three_dim)\n",
    "print(three_dim.view(2,12)) ## reshape to 2 rows and 12 columns\n",
    "print(three_dim.view(2,-1))\n"
   ]
  },
  {
   "cell_type": "code",
   "execution_count": 31,
   "id": "2d7673dc",
   "metadata": {},
   "outputs": [
    {
     "name": "stdout",
     "output_type": "stream",
     "text": [
      "tensor([[0.0985, 0.6153, 0.8002, 0.8301],\n",
      "        [0.7281, 0.4216, 0.7838, 0.4438],\n",
      "        [0.7288, 0.4235, 0.6825, 0.2432],\n",
      "        [0.8579, 0.7832, 0.6422, 0.3423]])\n"
     ]
    }
   ],
   "source": [
    "## create matrix with random numbers between 0 and 1\n",
    "r = torch.rand(4,4)\n",
    "print(r)"
   ]
  },
  {
   "cell_type": "code",
   "execution_count": 33,
   "id": "c290dc95",
   "metadata": {},
   "outputs": [
    {
     "name": "stdout",
     "output_type": "stream",
     "text": [
      "tensor([[ 1.1514, -0.5789, -0.2085,  0.1305],\n",
      "        [-0.5260,  0.2188, -0.4218,  1.7036],\n",
      "        [-1.6577,  0.1456, -0.8763, -0.7859],\n",
      "        [-1.8275, -0.3673,  0.8895,  1.3448]])\n",
      "torch.float32\n"
     ]
    }
   ],
   "source": [
    "### create a matrix with random numbers taken from normal distribution with mean zero and variance =1\n",
    "r2 = torch.randn(4,4)\n",
    "print(r2)\n",
    "print(r2.dtype)"
   ]
  },
  {
   "cell_type": "code",
   "execution_count": 34,
   "id": "9075d1fe",
   "metadata": {},
   "outputs": [
    {
     "name": "stdout",
     "output_type": "stream",
     "text": [
      "tensor([7, 8, 7, 9, 6])\n",
      "torch.int64\n"
     ]
    }
   ],
   "source": [
    "## create an array of 5 random integers from values between 6 and 9 (exclusive of 10)\n",
    "in_array = torch.randint(6,10,(5,))\n",
    "print(in_array)\n",
    "print(in_array.dtype)"
   ]
  },
  {
   "cell_type": "code",
   "execution_count": 35,
   "id": "9d0e54a2",
   "metadata": {},
   "outputs": [
    {
     "name": "stdout",
     "output_type": "stream",
     "text": [
      "tensor([[8, 9, 8],\n",
      "        [9, 6, 8],\n",
      "        [7, 9, 6]])\n"
     ]
    }
   ],
   "source": [
    "## create an array of 5 random integers from values between 6 and 9 (exclusive of 10)\n",
    "in_array2 = torch.randint(6,10,(3,3))\n",
    "print(in_array2)\n",
    "# print(in_array.dtype)"
   ]
  },
  {
   "cell_type": "code",
   "execution_count": 37,
   "id": "98fcb814",
   "metadata": {},
   "outputs": [
    {
     "name": "stdout",
     "output_type": "stream",
     "text": [
      "5\n",
      "9\n"
     ]
    }
   ],
   "source": [
    "## get the number of elements in in_array\n",
    "print(torch.numel(in_array))\n",
    "\n",
    "## get the number of elements in in_array2\n",
    "print(torch.numel(in_array2))"
   ]
  },
  {
   "cell_type": "code",
   "execution_count": 45,
   "id": "4a418e8b",
   "metadata": {},
   "outputs": [
    {
     "name": "stdout",
     "output_type": "stream",
     "text": [
      "tensor([[0, 0, 0],\n",
      "        [0, 0, 0],\n",
      "        [0, 0, 0]])\n",
      "torch.int64\n",
      "\n",
      "\n",
      "tensor([[1., 1., 1.],\n",
      "        [1., 1., 1.],\n",
      "        [1., 1., 1.]])\n",
      "torch.float32\n"
     ]
    }
   ],
   "source": [
    "## Construct a 3X3 matrix of zeroes and dtype long:\n",
    "\n",
    "z = torch.zeros(3,3,dtype=torch.long)\n",
    "print(z)\n",
    "print(z.dtype)\n",
    "print(\"\\n\")\n",
    "## construct a 3X3 matrix of ones\n",
    "\n",
    "o = torch.ones(3,3)\n",
    "print(o)\n",
    "print(o.dtype)"
   ]
  },
  {
   "cell_type": "code",
   "execution_count": 46,
   "id": "78b6b342",
   "metadata": {},
   "outputs": [
    {
     "name": "stdout",
     "output_type": "stream",
     "text": [
      "tensor([[ 0.4651,  0.4341,  0.1351, -0.4641],\n",
      "        [-0.8804,  0.0610, -0.9686, -0.4326],\n",
      "        [-0.2348,  0.1646, -1.2201,  0.9408],\n",
      "        [-0.4633,  0.0672, -2.0406, -0.5006]], dtype=torch.float64)\n"
     ]
    }
   ],
   "source": [
    "r2_like = torch.randn_like(r2,dtype=torch.double)\n",
    "print(r2_like)"
   ]
  },
  {
   "cell_type": "code",
   "execution_count": 48,
   "id": "64f8fab8",
   "metadata": {},
   "outputs": [
    {
     "name": "stdout",
     "output_type": "stream",
     "text": [
      "tensor([[0.0985, 0.6153, 0.8002, 0.8301],\n",
      "        [0.7281, 0.4216, 0.7838, 0.4438],\n",
      "        [0.7288, 0.4235, 0.6825, 0.2432],\n",
      "        [0.8579, 0.7832, 0.6422, 0.3423]])\n",
      "tensor([[ 1.1514, -0.5789, -0.2085,  0.1305],\n",
      "        [-0.5260,  0.2188, -0.4218,  1.7036],\n",
      "        [-1.6577,  0.1456, -0.8763, -0.7859],\n",
      "        [-1.8275, -0.3673,  0.8895,  1.3448]])\n",
      "tensor([[ 1.2498,  0.0364,  0.5918,  0.9606],\n",
      "        [ 0.2021,  0.6404,  0.3620,  2.1474],\n",
      "        [-0.9288,  0.5691, -0.1938, -0.5427],\n",
      "        [-0.9696,  0.4159,  1.5317,  1.6871]])\n"
     ]
    }
   ],
   "source": [
    "## Add two tensors , make sure they are of same size and data type\n",
    "add_result = torch.add(r,r2)\n",
    "print(r)\n",
    "print(r2)\n",
    "print(add_result)"
   ]
  },
  {
   "cell_type": "code",
   "execution_count": 55,
   "id": "4d97caa5",
   "metadata": {},
   "outputs": [
    {
     "name": "stdout",
     "output_type": "stream",
     "text": [
      "tensor([[ 1.2498,  0.0364,  0.5918,  0.9606],\n",
      "        [ 0.2021,  0.6404,  0.3620,  2.1474],\n",
      "        [-0.9288,  0.5691, -0.1938, -0.5427],\n",
      "        [-0.9696,  0.4159,  1.5317,  1.6871]])\n"
     ]
    }
   ],
   "source": [
    "## inplace addition change the value of r2\n",
    "r2.add_(r)\n",
    "print(r2)"
   ]
  },
  {
   "cell_type": "code",
   "execution_count": 56,
   "id": "74288f0c",
   "metadata": {},
   "outputs": [
    {
     "name": "stdout",
     "output_type": "stream",
     "text": [
      "tensor([[ 1.2498,  0.0364,  0.5918,  0.9606],\n",
      "        [ 0.2021,  0.6404,  0.3620,  2.1474],\n",
      "        [-0.9288,  0.5691, -0.1938, -0.5427],\n",
      "        [-0.9696,  0.4159,  1.5317,  1.6871]])\n",
      "tensor([0.0364, 0.6404, 0.5691, 0.4159])\n",
      "tensor([[ 1.2498,  0.0364],\n",
      "        [ 0.2021,  0.6404],\n",
      "        [-0.9288,  0.5691],\n",
      "        [-0.9696,  0.4159]])\n",
      "tensor([[ 1.2498,  0.0364,  0.5918,  0.9606],\n",
      "        [ 0.2021,  0.6404,  0.3620,  2.1474],\n",
      "        [-0.9288,  0.5691, -0.1938, -0.5427]])\n"
     ]
    }
   ],
   "source": [
    "print(r2)\n",
    "print(r2[:,1]) ## all the rows , 1st column\n",
    "print(r2[:,:2]) ## all the rows from column 1 until 2\n",
    "print(r2[:3,:]) ## all the rows until 3 and all columns"
   ]
  },
  {
   "cell_type": "code",
   "execution_count": 59,
   "id": "5d99d014",
   "metadata": {},
   "outputs": [
    {
     "name": "stdout",
     "output_type": "stream",
     "text": [
      "tensor([[ 1.2498,  0.0364,  0.5918,  0.9606],\n",
      "        [ 0.2021,  0.6404,  0.3620,  2.1474],\n",
      "        [-0.9288,  0.5691, -0.1938, -0.5427],\n",
      "        [-0.9696,  0.4159,  1.5317,  1.6871]])\n",
      "tensor(-0.5427)\n",
      "-0.5426946878433228\n",
      "tensor([-0.9288,  0.5691, -0.1938, -0.5427])\n"
     ]
    }
   ],
   "source": [
    "print(r2)\n",
    "num_ten = r2[2,3]\n",
    "print(num_ten)\n",
    "print(num_ten.item())\n",
    "print(r2[2,:])"
   ]
  },
  {
   "cell_type": "markdown",
   "id": "8876367b",
   "metadata": {},
   "source": [
    "### Numpy Bridge"
   ]
  },
  {
   "cell_type": "code",
   "execution_count": 62,
   "id": "4a475c54",
   "metadata": {},
   "outputs": [
    {
     "name": "stdout",
     "output_type": "stream",
     "text": [
      "tensor([1., 1., 1., 1., 1.])\n",
      "[1. 1. 1. 1. 1.]\n",
      "tensor([2., 2., 2., 2., 2.])\n",
      "[2. 2. 2. 2. 2.]\n"
     ]
    }
   ],
   "source": [
    "import numpy as np\n",
    "\n",
    "## converting torch tensors into numpy arrays\n",
    "\n",
    "a = torch.ones(5)\n",
    "print(a)\n",
    "b = a.numpy()\n",
    "print(b)\n",
    "## See how numpy array change their values\n",
    "a.add_(1)\n",
    "print(a)\n",
    "print(b)\n",
    "\n",
    "## Numpy array is also changed by torch tensor , this is called numpy bridge"
   ]
  },
  {
   "cell_type": "code",
   "execution_count": 63,
   "id": "300031e6",
   "metadata": {},
   "outputs": [
    {
     "name": "stdout",
     "output_type": "stream",
     "text": [
      "[2. 2. 2. 2. 2.]\n",
      "tensor([2., 2., 2., 2., 2.], dtype=torch.float64)\n"
     ]
    }
   ],
   "source": [
    "## Opposite is also true\n",
    "## Converting numpy array to torch tensor\n",
    "## see how changing the numpy array changes the torch tensor\n",
    "\n",
    "a = np.ones(5)\n",
    "b = torch.from_numpy(a)\n",
    "np.add(a,1,out=a)\n",
    "print(a)\n",
    "print(b)"
   ]
  },
  {
   "cell_type": "code",
   "execution_count": 66,
   "id": "764555c1",
   "metadata": {},
   "outputs": [],
   "source": [
    "# # ## Move the tensor to the GPU\n",
    "# # r2 = r2.cuda()\n",
    "# # print(r2)\n",
    "\n",
    "# ## Provide easy switching between cpu and gpu\n",
    "\n",
    "# CUDA= torch.cuda.is_available()\n",
    "# print(CUDA)\n",
    "# if CUDA:\n",
    "#     add_result = add_result.cuda()\n",
    "#     print(add_result)"
   ]
  },
  {
   "cell_type": "code",
   "execution_count": 68,
   "id": "aab75981",
   "metadata": {},
   "outputs": [
    {
     "name": "stdout",
     "output_type": "stream",
     "text": [
      "[1, 2, 3, 4]\n",
      "tensor([1, 2, 3, 4]) torch.int64\n"
     ]
    }
   ],
   "source": [
    "## converting a list to tensor\n",
    "a = [1,2,3,4]\n",
    "print(a)\n",
    "to_list = torch.tensor(a)\n",
    "print(to_list,to_list.dtype)"
   ]
  },
  {
   "cell_type": "code",
   "execution_count": 72,
   "id": "88bde4ee",
   "metadata": {},
   "outputs": [
    {
     "name": "stdout",
     "output_type": "stream",
     "text": [
      "tensor([[1., 2.],\n",
      "        [3., 4.],\n",
      "        [5., 6.],\n",
      "        [7., 8.]]) torch.float32\n"
     ]
    }
   ],
   "source": [
    "data = [[1.,2.],[3.,4.],\n",
    "       [5.,6.],[7.,8.]]\n",
    "\n",
    "T = torch.tensor(data)\n",
    "print(T,T.dtype)"
   ]
  },
  {
   "cell_type": "code",
   "execution_count": 73,
   "id": "4d377a2e",
   "metadata": {},
   "outputs": [
    {
     "name": "stdout",
     "output_type": "stream",
     "text": [
      "tensor([[ 1.2032, -0.9032,  0.6506,  0.8014, -0.6698],\n",
      "        [-0.9130, -0.6001,  1.3284, -0.6865,  0.5031]])\n",
      "tensor([[-0.8854, -0.1278, -2.0463, -2.0775, -0.7252],\n",
      "        [ 1.3985, -0.7678,  0.0188,  0.0072, -0.8908],\n",
      "        [ 0.5041,  1.2041, -0.7236, -0.1657,  0.4814]])\n",
      "\n",
      "\n",
      "tensor([[ 1.2032, -0.9032,  0.6506,  0.8014, -0.6698],\n",
      "        [-0.9130, -0.6001,  1.3284, -0.6865,  0.5031],\n",
      "        [-0.8854, -0.1278, -2.0463, -2.0775, -0.7252],\n",
      "        [ 1.3985, -0.7678,  0.0188,  0.0072, -0.8908],\n",
      "        [ 0.5041,  1.2041, -0.7236, -0.1657,  0.4814]])\n",
      "\n",
      "\n",
      "tensor([[-0.8726, -0.6881, -0.2312],\n",
      "        [ 1.0632,  0.3979,  0.8560]])\n",
      "tensor([[ 0.0127,  2.0350,  1.5394, -0.3546,  1.0619],\n",
      "        [-0.2970,  0.5001,  0.1746,  0.2811,  1.2592]])\n",
      "\n",
      "\n",
      "tensor([[-0.8726, -0.6881, -0.2312,  0.0127,  2.0350,  1.5394, -0.3546,  1.0619],\n",
      "        [ 1.0632,  0.3979,  0.8560, -0.2970,  0.5001,  0.1746,  0.2811,  1.2592]])\n",
      "\n",
      "\n"
     ]
    }
   ],
   "source": [
    "## Tensor Concatenation\n",
    "first_1 = torch.randn(2,5)\n",
    "print(first_1)\n",
    "second_1 = torch.randn(3,5)\n",
    "print(second_1)\n",
    "\n",
    "## Concatenate along the 0 dimension (concatenate rows)\n",
    "con_1 = torch.cat([first_1,second_1])\n",
    "print('\\n')\n",
    "print(con_1)\n",
    "print('\\n')\n",
    "\n",
    "first_2 = torch.randn(2,3)\n",
    "print(first_2)\n",
    "second_2 = torch.randn(2,5)\n",
    "print(second_2)\n",
    "\n",
    "## Concatenate along the 1 dimension ( concatenate columns)\n",
    "con_2 = torch.cat([first_2,second_2],1)\n",
    "print('\\n')\n",
    "print(con_2)\n",
    "print('\\n')"
   ]
  },
  {
   "cell_type": "code",
   "execution_count": 84,
   "id": "a2623c88",
   "metadata": {},
   "outputs": [
    {
     "name": "stdout",
     "output_type": "stream",
     "text": [
      "Tensor A\n",
      "tensor([1, 2, 3, 4])\n",
      "tensor([[1, 2, 3, 4]])\n",
      "torch.Size([1, 4])\n",
      "\n",
      "Tensor B\n",
      "tensor([[1],\n",
      "        [2],\n",
      "        [3],\n",
      "        [4]])\n",
      "torch.Size([4, 1])\n",
      "\n",
      "Tensor2\n",
      "tensor([[[-0.1719, -0.8990, -0.2325, -2.5292],\n",
      "         [ 0.9739,  0.0042, -1.2130,  0.7109],\n",
      "         [-0.6044, -0.4443,  0.3477,  0.2535]],\n",
      "\n",
      "        [[-0.7062,  0.1720,  0.4081, -0.2830],\n",
      "         [-1.5178, -0.3286,  0.4157, -1.5549],\n",
      "         [ 1.7189,  2.8030, -0.8125,  1.0766]]])\n",
      "\n",
      "\n",
      "tensor([[[-0.1719, -0.8990, -0.2325, -2.5292],\n",
      "         [ 0.9739,  0.0042, -1.2130,  0.7109]],\n",
      "\n",
      "        [[-0.7062,  0.1720,  0.4081, -0.2830],\n",
      "         [-1.5178, -0.3286,  0.4157, -1.5549]]])\n",
      "torch.Size([2, 2, 4])\n",
      "\n",
      " Tensor D\n",
      "tensor([[[[-0.1719, -0.8990, -0.2325, -2.5292]],\n",
      "\n",
      "         [[ 0.9739,  0.0042, -1.2130,  0.7109]]],\n",
      "\n",
      "\n",
      "        [[[-0.7062,  0.1720,  0.4081, -0.2830]],\n",
      "\n",
      "         [[-1.5178, -0.3286,  0.4157, -1.5549]]]])\n",
      "torch.Size([2, 2, 1, 4])\n"
     ]
    }
   ],
   "source": [
    "# Addition dimensions to tensor in specifies index\n",
    "\n",
    "tensor_1 = torch.tensor([1,2,3,4])\n",
    "tensor_a = torch.unsqueeze(tensor_1,0) ## adds 1 dimention in 0th index\n",
    "print(\"Tensor A\")\n",
    "print(tensor_1)\n",
    "print(tensor_a)\n",
    "print(tensor_a.shape)\n",
    "\n",
    "print('\\nTensor B')\n",
    "tensor_b = torch.unsqueeze(tensor_1,1) ## adds 1 dimension in 1st index\n",
    "print(tensor_b)\n",
    "print(tensor_b.shape)\n",
    "print('\\nTensor2')\n",
    "\n",
    "tensor_2 = torch.randn(2,3,4)\n",
    "print(tensor_2)\n",
    "print('\\n')\n",
    "tensor_c = tensor_2[:,:2]\n",
    "print(tensor_c)\n",
    "print(tensor_c.shape)\n",
    "\n",
    "print(\"\\n Tensor D\")\n",
    "tensor_d = torch.unsqueeze(tensor_c,2) ## adds 1 dimension in 2nd index\n",
    "print(tensor_d)\n",
    "print(tensor_d.shape)"
   ]
  },
  {
   "cell_type": "markdown",
   "id": "daaceb29",
   "metadata": {},
   "source": [
    "### Automatic Differentiation"
   ]
  },
  {
   "cell_type": "code",
   "execution_count": 92,
   "id": "6f52c070",
   "metadata": {},
   "outputs": [
    {
     "name": "stdout",
     "output_type": "stream",
     "text": [
      "tensor([5., 7., 9.], grad_fn=<AddBackward0>)\n",
      "<AddBackward0 object at 0x7f8ae4e12280>\n",
      "tensor(21., grad_fn=<SumBackward0>)\n",
      "<SumBackward0 object at 0x7f8b02f13550>\n"
     ]
    }
   ],
   "source": [
    "## Remember it requires_grad=True , the tensor object keeps track of how it was created\n",
    "x = torch.tensor([1.,2.,3.],requires_grad=True)\n",
    "y = torch.tensor([4.,5.,6.],requires_grad=True)\n",
    "\n",
    "## notice that both x and y have requires grad = true , therefore we can compute gradient with respect to them\n",
    "z = x + y\n",
    "print(z)\n",
    "\n",
    "## z knows that it was created as a result of addition of x and y.It knows that it wasnt read in from a file\n",
    "\n",
    "print(z.grad_fn)\n",
    "\n",
    "# If we go further on this\n",
    "s= z.sum()\n",
    "print(s)\n",
    "print(s.grad_fn)"
   ]
  },
  {
   "cell_type": "code",
   "execution_count": 93,
   "id": "547aae09",
   "metadata": {},
   "outputs": [
    {
     "name": "stdout",
     "output_type": "stream",
     "text": [
      "tensor([1., 1., 1.])\n"
     ]
    }
   ],
   "source": [
    "## Now if we backpropograte on x, we can find gradient of s with respect to x\n",
    "## s.backward all the gradient backwards\n",
    "s.backward()\n",
    "print(x.grad)"
   ]
  },
  {
   "cell_type": "code",
   "execution_count": 95,
   "id": "4de44d25",
   "metadata": {},
   "outputs": [
    {
     "name": "stdout",
     "output_type": "stream",
     "text": [
      "False False\n",
      "None\n",
      "<AddBackward0 object at 0x7f8ae4bb10a0>\n",
      "True\n",
      "None\n",
      "True\n",
      "True\n",
      "False\n"
     ]
    }
   ],
   "source": [
    "## By default tensors have requires_grad = False\n",
    "x = torch.randn(2,2)\n",
    "y = torch.randn(2,2)\n",
    "\n",
    "print(x.requires_grad,y.requires_grad)\n",
    "z= x+y\n",
    "## So you cant backpropograte through z\n",
    "print(z.grad_fn)\n",
    "## Another way to set the requires_grad=True is \n",
    "x.requires_grad_()\n",
    "y.requires_grad_()\n",
    "## z contains enough information to compute gradients, as we saw above\n",
    "\n",
    "z = x + y\n",
    "print(z.grad_fn)\n",
    "\n",
    "## If any input to the operation has `requires_gradient=True` , so will the output\n",
    "print(z.requires_grad)\n",
    "\n",
    "## now z has computation history that relates to x and y\n",
    "new_z = z.detach()\n",
    "print(new_z.grad_fn)\n",
    "\n",
    "## z.detach() returns a tensor , that shares the same storage as z, but with the computation history forgotten\n",
    "## It doesnt know how it was computed,In other words, we have broken tensor away from its past history\n",
    "\n",
    "## we can also stop autograd from tracking history on tensors. This is useful in transfer learning\n",
    "print(x.requires_grad)\n",
    "print((x+10).requires_grad)\n",
    "\n",
    "with torch.no_grad():\n",
    "    print((x+10).requires_grad)\n"
   ]
  },
  {
   "cell_type": "code",
   "execution_count": 98,
   "id": "a2954eed",
   "metadata": {},
   "outputs": [
    {
     "name": "stdout",
     "output_type": "stream",
     "text": [
      "tensor([[1., 1.],\n",
      "        [1., 1.]], requires_grad=True)\n",
      "tensor([[3., 3.],\n",
      "        [3., 3.]], grad_fn=<AddBackward0>)\n",
      "<AddBackward0 object at 0x7f8ae4be0160>\n",
      "tensor([[27., 27.],\n",
      "        [27., 27.]], grad_fn=<MulBackward0>) tensor(27., grad_fn=<MeanBackward0>)\n",
      "tensor([[4.5000, 4.5000],\n",
      "        [4.5000, 4.5000]])\n"
     ]
    }
   ],
   "source": [
    "## Last example\n",
    "x = torch.ones(2,2,requires_grad=True)\n",
    "print(x)\n",
    "y = x + 2\n",
    "print(y)\n",
    "print(y.grad_fn)\n",
    "z = y * y * 3\n",
    "out = z.mean()\n",
    "print(z,out)\n",
    "out.backward()\n",
    "print(x.grad)\n"
   ]
  },
  {
   "cell_type": "markdown",
   "id": "d355ce7c",
   "metadata": {},
   "source": [
    "### Loss Functions"
   ]
  },
  {
   "cell_type": "code",
   "execution_count": 99,
   "id": "0b99c9b4",
   "metadata": {},
   "outputs": [],
   "source": [
    "import torch\n",
    "import torch.nn as nn\n"
   ]
  },
  {
   "cell_type": "code",
   "execution_count": 100,
   "id": "530b5381",
   "metadata": {},
   "outputs": [],
   "source": [
    "## prediction vs actual loss\n",
    "\n",
    "prediction = torch.randn(4,5)\n"
   ]
  },
  {
   "cell_type": "code",
   "execution_count": 101,
   "id": "f41d4968",
   "metadata": {},
   "outputs": [],
   "source": [
    "label = torch.randn(4,5)"
   ]
  },
  {
   "cell_type": "code",
   "execution_count": 109,
   "id": "ef6d4aeb",
   "metadata": {},
   "outputs": [],
   "source": [
    "mse = nn.MSELoss(reduction = 'none')"
   ]
  },
  {
   "cell_type": "code",
   "execution_count": 110,
   "id": "7316133e",
   "metadata": {},
   "outputs": [],
   "source": [
    "loss = mse(prediction,label)"
   ]
  },
  {
   "cell_type": "code",
   "execution_count": 111,
   "id": "9beb9b00",
   "metadata": {},
   "outputs": [
    {
     "data": {
      "text/plain": [
       "tensor([[3.7036e+00, 1.2059e+00, 1.4207e-02, 4.2852e-02, 7.4942e-02],\n",
       "        [4.6090e-01, 4.3910e-01, 2.3703e-01, 3.3099e-01, 4.6521e-01],\n",
       "        [1.4150e+00, 1.1588e-01, 1.2859e+00, 1.3314e+01, 4.2292e+00],\n",
       "        [1.2486e-02, 3.5775e-01, 1.1613e+00, 2.3983e-01, 5.2713e+00]])"
      ]
     },
     "execution_count": 111,
     "metadata": {},
     "output_type": "execute_result"
    }
   ],
   "source": [
    "loss"
   ]
  },
  {
   "cell_type": "code",
   "execution_count": 114,
   "id": "ea96158d",
   "metadata": {},
   "outputs": [
    {
     "data": {
      "text/plain": [
       "tensor(1.7189)"
      ]
     },
     "execution_count": 114,
     "metadata": {},
     "output_type": "execute_result"
    }
   ],
   "source": [
    "mse = nn.MSELoss(reduction = 'mean')\n",
    "loss = mse(prediction,label)\n",
    "loss"
   ]
  },
  {
   "cell_type": "code",
   "execution_count": 115,
   "id": "ce3ab87e",
   "metadata": {},
   "outputs": [
    {
     "data": {
      "text/plain": [
       "tensor(1.7189)"
      ]
     },
     "execution_count": 115,
     "metadata": {},
     "output_type": "execute_result"
    }
   ],
   "source": [
    "((prediction-label)**2).mean()"
   ]
  },
  {
   "cell_type": "code",
   "execution_count": 116,
   "id": "7a39a292",
   "metadata": {},
   "outputs": [
    {
     "name": "stdout",
     "output_type": "stream",
     "text": [
      "tensor([[1., 0., 0., 0., 1.],\n",
      "        [1., 1., 0., 1., 0.],\n",
      "        [1., 1., 0., 0., 0.],\n",
      "        [0., 1., 0., 0., 1.]])\n"
     ]
    }
   ],
   "source": [
    "## Binary cross entropy loss\n",
    "\n",
    "labels = torch.zeros(4,5).random_(0,2)\n",
    "print(labels)\n",
    "\n"
   ]
  },
  {
   "cell_type": "code",
   "execution_count": 117,
   "id": "0b749998",
   "metadata": {},
   "outputs": [],
   "source": [
    "sigmoid = nn.Sigmoid()\n",
    "bce = nn.BCELoss(reduction='mean')"
   ]
  },
  {
   "cell_type": "code",
   "execution_count": 118,
   "id": "20286fe9",
   "metadata": {},
   "outputs": [
    {
     "data": {
      "text/plain": [
       "tensor(0.7058)"
      ]
     },
     "execution_count": 118,
     "metadata": {},
     "output_type": "execute_result"
    }
   ],
   "source": [
    "bce(sigmoid(prediction),labels)"
   ]
  },
  {
   "cell_type": "code",
   "execution_count": 119,
   "id": "13023816",
   "metadata": {},
   "outputs": [],
   "source": [
    "## Logit loss\n",
    "bces = bce = nn.BCEWithLogitsLoss(reduction='mean')"
   ]
  },
  {
   "cell_type": "code",
   "execution_count": 120,
   "id": "682db306",
   "metadata": {},
   "outputs": [
    {
     "data": {
      "text/plain": [
       "tensor(0.7366)"
      ]
     },
     "execution_count": 120,
     "metadata": {},
     "output_type": "execute_result"
    }
   ],
   "source": [
    "bces(sigmoid(prediction),labels)"
   ]
  },
  {
   "cell_type": "code",
   "execution_count": 122,
   "id": "e5fff3b3",
   "metadata": {},
   "outputs": [
    {
     "data": {
      "text/plain": [
       "array([[ 2.0100904 , -1.700849  ,  0.4112881 , -1.3221304 ,  0.18271105],\n",
       "       [ 0.04108731,  0.0753277 ,  0.6498562 , -0.02868167, -0.0298144 ],\n",
       "       [-0.19119899, -0.6911693 ,  0.31792992,  1.837236  ,  1.3925639 ],\n",
       "       [ 0.4016186 ,  1.5867542 , -1.5235881 , -1.0291256 ,  0.98241454]],\n",
       "      dtype=float32)"
      ]
     },
     "execution_count": 122,
     "metadata": {},
     "output_type": "execute_result"
    }
   ],
   "source": [
    "import numpy as np\n",
    "x = prediction.numpy()\n",
    "y = label.numpy()\n",
    "x"
   ]
  },
  {
   "cell_type": "code",
   "execution_count": 126,
   "id": "7e00f98d",
   "metadata": {},
   "outputs": [],
   "source": [
    "def sigmoid(x):\n",
    "    return 1/(1+np.exp(-x))"
   ]
  },
  {
   "cell_type": "code",
   "execution_count": 128,
   "id": "26669f53",
   "metadata": {},
   "outputs": [],
   "source": [
    "x = sigmoid(x)"
   ]
  },
  {
   "cell_type": "code",
   "execution_count": 129,
   "id": "d3b8834e",
   "metadata": {},
   "outputs": [],
   "source": [
    "loss_values = []\n",
    "for i in range(len(y)):\n",
    "    batch_loss = []\n",
    "    for j in range(len(y[0])):\n",
    "        if y[i][j] == 1:\n",
    "            loss = -np.log(x[i][j])\n",
    "        else:\n",
    "            loss = -np.log(1-x[i][j])\n",
    "        batch_loss.append(loss)\n",
    "    loss_values.append(batch_loss)    "
   ]
  },
  {
   "cell_type": "code",
   "execution_count": 130,
   "id": "5abc6cbd",
   "metadata": {},
   "outputs": [
    {
     "data": {
      "text/plain": [
       "[[2.135820994874937,\n",
       "  0.1676549295874038,\n",
       "  0.9197886913143684,\n",
       "  0.23630994310155407,\n",
       "  0.788669849655287],\n",
       " [0.7139019111052805,\n",
       "  0.7315201505794195,\n",
       "  1.0699609001453843,\n",
       "  0.6789091009383619,\n",
       "  0.67835101767548],\n",
       " [0.6021103758010408,\n",
       "  0.4061248510851498,\n",
       "  0.8646942522721727,\n",
       "  1.985015722200497,\n",
       "  1.6144567394224514],\n",
       " [0.9139846665770995,\n",
       "  1.7728919218868449,\n",
       "  0.19715152036495354,\n",
       "  0.3055116237966636,\n",
       "  1.3004361443071186]]"
      ]
     },
     "execution_count": 130,
     "metadata": {},
     "output_type": "execute_result"
    }
   ],
   "source": [
    "loss_values"
   ]
  },
  {
   "cell_type": "code",
   "execution_count": 131,
   "id": "b29a0b61",
   "metadata": {},
   "outputs": [
    {
     "data": {
      "text/plain": [
       "0.9041632653345737"
      ]
     },
     "execution_count": 131,
     "metadata": {},
     "output_type": "execute_result"
    }
   ],
   "source": [
    "np.mean(loss_values)"
   ]
  },
  {
   "cell_type": "markdown",
   "id": "9946829d",
   "metadata": {},
   "source": [
    "### Weight initialization in pytorch"
   ]
  },
  {
   "cell_type": "code",
   "execution_count": 132,
   "id": "df124e31",
   "metadata": {},
   "outputs": [],
   "source": [
    "import torch\n",
    "import torch.nn as nn\n"
   ]
  },
  {
   "cell_type": "code",
   "execution_count": 133,
   "id": "a5000051",
   "metadata": {},
   "outputs": [],
   "source": [
    "layer = nn.Linear(5,5)"
   ]
  },
  {
   "cell_type": "code",
   "execution_count": 134,
   "id": "3978ce32",
   "metadata": {},
   "outputs": [
    {
     "data": {
      "text/plain": [
       "Parameter containing:\n",
       "tensor([[ 0.0644,  0.0366, -0.2197, -0.1067, -0.1918],\n",
       "        [ 0.1494, -0.1288, -0.2059, -0.0437, -0.4194],\n",
       "        [-0.0296, -0.2501,  0.1305,  0.2677,  0.3243],\n",
       "        [-0.0565, -0.2729, -0.3631, -0.2353,  0.1042],\n",
       "        [-0.2542, -0.2287,  0.0077,  0.3979,  0.1597]], requires_grad=True)"
      ]
     },
     "execution_count": 134,
     "metadata": {},
     "output_type": "execute_result"
    }
   ],
   "source": [
    "layer.weight"
   ]
  },
  {
   "cell_type": "code",
   "execution_count": 135,
   "id": "d14953db",
   "metadata": {},
   "outputs": [
    {
     "data": {
      "text/plain": [
       "tensor([[ 0.0644,  0.0366, -0.2197, -0.1067, -0.1918],\n",
       "        [ 0.1494, -0.1288, -0.2059, -0.0437, -0.4194],\n",
       "        [-0.0296, -0.2501,  0.1305,  0.2677,  0.3243],\n",
       "        [-0.0565, -0.2729, -0.3631, -0.2353,  0.1042],\n",
       "        [-0.2542, -0.2287,  0.0077,  0.3979,  0.1597]])"
      ]
     },
     "execution_count": 135,
     "metadata": {},
     "output_type": "execute_result"
    }
   ],
   "source": [
    "layer.weight.data"
   ]
  },
  {
   "cell_type": "code",
   "execution_count": 138,
   "id": "8860212c",
   "metadata": {},
   "outputs": [
    {
     "data": {
      "text/plain": [
       "Parameter containing:\n",
       "tensor([[2.6472, 2.7981, 1.3748, 1.0565, 0.8343],\n",
       "        [2.5088, 2.4886, 1.7272, 1.8985, 2.0908],\n",
       "        [1.0839, 2.8738, 0.9745, 2.5382, 0.2847],\n",
       "        [2.6467, 1.0689, 2.9875, 0.4700, 1.5448],\n",
       "        [0.7291, 0.7609, 2.3468, 1.9101, 0.7293]], requires_grad=True)"
      ]
     },
     "execution_count": 138,
     "metadata": {},
     "output_type": "execute_result"
    }
   ],
   "source": [
    "## uniform distribution\n",
    "nn.init.uniform_(layer.weight,a=0.0,b=3)"
   ]
  },
  {
   "cell_type": "code",
   "execution_count": 140,
   "id": "d412871c",
   "metadata": {},
   "outputs": [
    {
     "data": {
      "text/plain": [
       "Parameter containing:\n",
       "tensor([[ 0.0709,  0.1763, -0.2022,  0.3661,  0.0902],\n",
       "        [ 0.0201, -0.0560, -0.0389,  0.2272, -0.0984],\n",
       "        [ 0.0634, -0.1508,  0.0430,  0.0422, -0.0132],\n",
       "        [ 0.2018,  0.4202,  0.0434, -0.1099, -0.0116],\n",
       "        [ 0.0076, -0.1469,  0.0715, -0.0126,  0.0374]], requires_grad=True)"
      ]
     },
     "execution_count": 140,
     "metadata": {},
     "output_type": "execute_result"
    }
   ],
   "source": [
    "## normal distribution\n",
    "\n",
    "nn.init.normal_(layer.weight,mean=0.0,std=0.2)"
   ]
  },
  {
   "cell_type": "code",
   "execution_count": 143,
   "id": "24e035a3",
   "metadata": {},
   "outputs": [
    {
     "data": {
      "text/plain": [
       "Parameter containing:\n",
       "tensor([0., 0., 0., 0., 0.], requires_grad=True)"
      ]
     },
     "execution_count": 143,
     "metadata": {},
     "output_type": "execute_result"
    }
   ],
   "source": [
    "nn.init.constant_(layer.bias,0)"
   ]
  },
  {
   "cell_type": "code",
   "execution_count": 145,
   "id": "be89c7a4",
   "metadata": {},
   "outputs": [
    {
     "data": {
      "text/plain": [
       "Parameter containing:\n",
       "tensor([0., 0., 0., 0., 0.], requires_grad=True)"
      ]
     },
     "execution_count": 145,
     "metadata": {},
     "output_type": "execute_result"
    }
   ],
   "source": [
    "nn.init.zeros_(layer.bias)"
   ]
  },
  {
   "cell_type": "code",
   "execution_count": 146,
   "id": "ffbd837f",
   "metadata": {},
   "outputs": [
    {
     "data": {
      "text/plain": [
       "Parameter containing:\n",
       "tensor([[ 0.0570,  0.1387,  0.4449,  0.5295,  0.5248],\n",
       "        [ 0.6510, -0.6217, -0.6725,  0.2622, -0.5753],\n",
       "        [-0.2888,  0.1086, -0.7437,  0.2947,  0.0413],\n",
       "        [-0.1053,  0.5097, -0.4755,  0.5997, -0.4702],\n",
       "        [ 0.2749, -0.3720, -0.4941, -0.5165,  0.6128]], requires_grad=True)"
      ]
     },
     "execution_count": 146,
     "metadata": {},
     "output_type": "execute_result"
    }
   ],
   "source": [
    "nn.init.xavier_uniform_(layer.weight,gain=1.0)"
   ]
  },
  {
   "cell_type": "code",
   "execution_count": 147,
   "id": "cfbd5788",
   "metadata": {},
   "outputs": [
    {
     "data": {
      "text/plain": [
       "Parameter containing:\n",
       "tensor([[ 0.3563, -0.2745,  0.0134, -0.1733,  0.0254],\n",
       "        [-1.0710,  0.5014, -0.1427, -0.3529, -0.5949],\n",
       "        [ 0.4529,  0.7473,  0.3265, -0.6666, -0.0133],\n",
       "        [ 0.1799, -0.4078, -0.0697,  0.1520, -0.2919],\n",
       "        [-0.3970, -0.2188,  0.1238, -0.4857,  0.7377]], requires_grad=True)"
      ]
     },
     "execution_count": 147,
     "metadata": {},
     "output_type": "execute_result"
    }
   ],
   "source": [
    "nn.init.xavier_normal_(layer.weight,gain=1.0)"
   ]
  },
  {
   "cell_type": "code",
   "execution_count": null,
   "id": "4d70c088",
   "metadata": {},
   "outputs": [],
   "source": []
  }
 ],
 "metadata": {
  "kernelspec": {
   "display_name": "Python 3 (ipykernel)",
   "language": "python",
   "name": "python3"
  },
  "language_info": {
   "codemirror_mode": {
    "name": "ipython",
    "version": 3
   },
   "file_extension": ".py",
   "mimetype": "text/x-python",
   "name": "python",
   "nbconvert_exporter": "python",
   "pygments_lexer": "ipython3",
   "version": "3.9.13"
  }
 },
 "nbformat": 4,
 "nbformat_minor": 5
}
